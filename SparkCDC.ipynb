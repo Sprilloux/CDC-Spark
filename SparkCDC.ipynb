{
 "cells": [
  {
   "cell_type": "markdown",
   "metadata": {},
   "source": [
    "# Spark Session Start\n",
    "### I have used DataBricks Community Edition for this project. I have used 15.3 (Apache Spark 3.5.0, Scala 2.12)"
   ]
  },
  {
   "cell_type": "code",
   "execution_count": null,
   "metadata": {
    "application/vnd.databricks.v1+cell": {
     "cellMetadata": {
      "byteLimit": 2048000,
      "rowLimit": 10000
     },
     "inputWidgets": {},
     "nuid": "ffac215f-ee7b-4b73-90e6-c9a7b939de4d",
     "showTitle": false,
     "title": ""
    }
   },
   "outputs": [],
   "source": [
    "from pyspark.sql import SparkSession\n",
    "from pyspark.sql.functions import from_json, col\n",
    "from pyspark.sql.types import StructType, StructField, StringType, IntegerType, LongType\n",
    "\n",
    "spark = SparkSession.builder \\\n",
    "    .appName(\"KafkaDebezium\") \\\n",
    "    .getOrCreate()"
   ]
  },
  {
   "cell_type": "markdown",
   "metadata": {},
   "source": [
    "# Schema of the data"
   ]
  },
  {
   "cell_type": "code",
   "execution_count": null,
   "metadata": {
    "application/vnd.databricks.v1+cell": {
     "cellMetadata": {
      "byteLimit": 2048000,
      "rowLimit": 10000
     },
     "inputWidgets": {},
     "nuid": "0d98d08c-3037-4247-8d51-cd032b82e94a",
     "showTitle": false,
     "title": ""
    }
   },
   "outputs": [],
   "source": [
    "schema = StructType([\n",
    "    StructField(\"schema\", StructType([\n",
    "        StructField(\"type\", StringType(), True),\n",
    "        StructField(\"fields\", StructType([\n",
    "            StructField(\"type\", StringType(), True),\n",
    "            StructField(\"optional\", StringType(), True),\n",
    "            StructField(\"default\", StringType(), True),\n",
    "            StructField(\"field\", StringType(), True)\n",
    "        ]), True),\n",
    "        StructField(\"optional\", StringType(), True),\n",
    "        StructField(\"name\", StringType(), True),\n",
    "        StructField(\"version\", StringType(), True)\n",
    "    ]), True),\n",
    "\n",
    "    StructField(\"payload\", StructType([\n",
    "        StructField(\"before\", StructType([\n",
    "            StructField(\"id\", IntegerType(), True),\n",
    "            StructField(\"first_name\", StringType(), True),\n",
    "            StructField(\"last_name\", StringType(), True),\n",
    "            StructField(\"email\", StringType(), True),\n",
    "            StructField(\"phone\", StringType(), True),\n",
    "            StructField(\"created_at\", LongType(), True)\n",
    "        ]), True),\n",
    "        StructField(\"after\", StructType([\n",
    "            StructField(\"id\", IntegerType(), True),\n",
    "            StructField(\"first_name\", StringType(), True),\n",
    "            StructField(\"last_name\", StringType(), True),\n",
    "            StructField(\"email\", StringType(), True),\n",
    "            StructField(\"phone\", StringType(), True),\n",
    "            StructField(\"created_at\", LongType(), True)\n",
    "        ]), True),\n",
    "        StructField(\"source\", StructType([\n",
    "            StructField(\"version\", StringType(), True),\n",
    "            StructField(\"connector\", StringType(), True),\n",
    "            StructField(\"name\", StringType(), True),\n",
    "            StructField(\"ts_ms\", LongType(), True),\n",
    "            StructField(\"snapshot\", StringType(), True),\n",
    "            StructField(\"db\", StringType(), True),\n",
    "            StructField(\"sequence\", StringType(), True),\n",
    "            StructField(\"schema\", StringType(), True),\n",
    "            StructField(\"table\", StringType(), True),\n",
    "            StructField(\"txId\", LongType(), True),\n",
    "            StructField(\"lsn\", LongType(), True),\n",
    "            StructField(\"xmin\", LongType(), True)\n",
    "        ]), True),\n",
    "        StructField(\"op\", StringType(), True),\n",
    "        StructField(\"ts_ms\", LongType(), True),\n",
    "        StructField(\"transaction\", StructType([\n",
    "            StructField(\"id\", StringType(), True),\n",
    "            StructField(\"total_order\", LongType(), True),\n",
    "            StructField(\"data_collection_order\", LongType(), True)\n",
    "        ]), True)\n",
    "    ]), True)\n",
    "])"
   ]
  },
  {
   "cell_type": "markdown",
   "metadata": {},
   "source": [
    "## Read the data from Kafka"
   ]
  },
  {
   "cell_type": "code",
   "execution_count": null,
   "metadata": {
    "application/vnd.databricks.v1+cell": {
     "cellMetadata": {
      "byteLimit": 2048000,
      "rowLimit": 10000
     },
     "inputWidgets": {},
     "nuid": "73340f78-fbb1-4046-a1fa-78ae94e19fb6",
     "showTitle": false,
     "title": ""
    }
   },
   "outputs": [],
   "source": [
    "kafka_df = spark.readStream \\\n",
    "    .format(\"kafka\") \\\n",
    "    .option(\"kafka.bootstrap.servers\", \"<VM-External-IP>:9092\") \\\n",
    "    .option(\"subscribe\", \"dbserver1.public.customers\") \\\n",
    "    .load()\n",
    "\n",
    "# Change the value column to a string\n",
    "kafka_df = kafka_df.selectExpr(\"CAST(value AS STRING)\")"
   ]
  },
  {
   "cell_type": "markdown",
   "metadata": {},
   "source": [
    "### Change the JSON data to a DataFrame"
   ]
  },
  {
   "cell_type": "code",
   "execution_count": null,
   "metadata": {
    "application/vnd.databricks.v1+cell": {
     "cellMetadata": {
      "byteLimit": 2048000,
      "rowLimit": 10000
     },
     "inputWidgets": {},
     "nuid": "cea2ebab-9d90-4fdf-842b-c9d8fd1ce0ed",
     "showTitle": false,
     "title": ""
    }
   },
   "outputs": [],
   "source": [
    "json_df = kafka_df.select(from_json(col(\"value\"), schema).alias(\"data\"))\n",
    "\n",
    "# Filter for only update operations\n",
    "json_df = json_df.filter(col(\"data.payload.op\") == \"u\")"
   ]
  },
  {
   "cell_type": "markdown",
   "metadata": {},
   "source": [
    "### Change the data to a table"
   ]
  },
  {
   "cell_type": "code",
   "execution_count": null,
   "metadata": {
    "application/vnd.databricks.v1+cell": {
     "cellMetadata": {
      "byteLimit": 2048000,
      "rowLimit": 10000
     },
     "inputWidgets": {},
     "nuid": "3b2b39ab-d764-4e3b-9439-67a7b3caba5c",
     "showTitle": false,
     "title": ""
    }
   },
   "outputs": [],
   "source": [
    "json_df = json_df.select(\n",
    "    col(\"data.payload.after.id\").alias(\"id\"),\n",
    "    col(\"data.payload.after.first_name\").alias(\"first_name\"),\n",
    "    col(\"data.payload.after.last_name\").alias(\"last_name\"),\n",
    "    col(\"data.payload.after.email\").alias(\"email\"),\n",
    "    col(\"data.payload.after.phone\").alias(\"phone\"),\n",
    "    col(\"data.payload.after.created_at\").alias(\"created_at\")\n",
    ")\n",
    "\n",
    "# Write the stream to memory\n",
    "query = json_df.writeStream \\\n",
    "    .outputMode(\"append\") \\\n",
    "    .format(\"memory\") \\\n",
    "    .queryName(\"customers\") \\\n",
    "    .start()"
   ]
  },
  {
   "cell_type": "markdown",
   "metadata": {},
   "source": [
    "### Query the data"
   ]
  },
  {
   "cell_type": "code",
   "execution_count": null,
   "metadata": {
    "application/vnd.databricks.v1+cell": {
     "cellMetadata": {
      "byteLimit": 2048000,
      "rowLimit": 10000
     },
     "inputWidgets": {},
     "nuid": "8108b012-2f48-4fe8-ac3c-2c6bea10a5cc",
     "showTitle": false,
     "title": ""
    }
   },
   "outputs": [
    {
     "name": "stdout",
     "output_type": "stream",
     "text": [
      "+---+----------+---------+------------------+---------+----------------+\n",
      "| id|first_name|last_name|             email|    phone|      created_at|\n",
      "+---+----------+---------+------------------+---------+----------------+\n",
      "|  3|    Alice3|      Doe|example4@email.com|123456789|1726082790625207|\n",
      "|  3|    Alice2|      Doe|example4@email.com|123456789|1726082790625207|\n",
      "|  3|    Alice1|      Doe|example4@email.com|123456789|1726082790625207|\n",
      "+---+----------+---------+------------------+---------+----------------+\n",
      "\n"
     ]
    }
   ],
   "source": [
    "# An example of how to query the stream\n",
    "spark.sql(\"SELECT * FROM customers\").show()\n"
   ]
  }
 ],
 "metadata": {
  "application/vnd.databricks.v1+notebook": {
   "dashboards": [],
   "environmentMetadata": null,
   "language": "python",
   "notebookMetadata": {
    "pythonIndentUnit": 4
   },
   "notebookName": "SparkCDC",
   "widgets": {}
  },
  "language_info": {
   "name": "python"
  }
 },
 "nbformat": 4,
 "nbformat_minor": 0
}
